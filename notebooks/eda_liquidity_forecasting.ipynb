{
 "cells": [
  {
   "cell_type": "code",
   "execution_count": 1,
   "id": "813fd507",
   "metadata": {},
   "outputs": [],
   "source": [
    "import pandas as pd"
   ]
  },
  {
   "cell_type": "code",
   "execution_count": 2,
   "id": "f699cea0",
   "metadata": {},
   "outputs": [
    {
     "data": {
      "text/html": [
       "<div>\n",
       "<style scoped>\n",
       "    .dataframe tbody tr th:only-of-type {\n",
       "        vertical-align: middle;\n",
       "    }\n",
       "\n",
       "    .dataframe tbody tr th {\n",
       "        vertical-align: top;\n",
       "    }\n",
       "\n",
       "    .dataframe thead th {\n",
       "        text-align: right;\n",
       "    }\n",
       "</style>\n",
       "<table border=\"1\" class=\"dataframe\">\n",
       "  <thead>\n",
       "    <tr style=\"text-align: right;\">\n",
       "      <th></th>\n",
       "      <th>report_date</th>\n",
       "      <th>institution</th>\n",
       "      <th>total_deposits</th>\n",
       "      <th>interest_bearing_cash</th>\n",
       "      <th>noninterest_cash</th>\n",
       "    </tr>\n",
       "  </thead>\n",
       "  <tbody>\n",
       "    <tr>\n",
       "      <th>0</th>\n",
       "      <td>NaN</td>\n",
       "      <td>NaN</td>\n",
       "      <td>NaN</td>\n",
       "      <td>NaN</td>\n",
       "      <td>NaN</td>\n",
       "    </tr>\n",
       "    <tr>\n",
       "      <th>1</th>\n",
       "      <td>2023-12-31</td>\n",
       "      <td>BANK OF HANCOCK COUNTY</td>\n",
       "      <td>65251.0</td>\n",
       "      <td>917.0</td>\n",
       "      <td>4472.0</td>\n",
       "    </tr>\n",
       "    <tr>\n",
       "      <th>2</th>\n",
       "      <td>2023-12-31</td>\n",
       "      <td>FIRST COMMUNITY BANK XENIA-FLORA</td>\n",
       "      <td>46676.0</td>\n",
       "      <td>1278.0</td>\n",
       "      <td>2600.0</td>\n",
       "    </tr>\n",
       "    <tr>\n",
       "      <th>3</th>\n",
       "      <td>2023-12-31</td>\n",
       "      <td>BROADSTREET BANK, SSB</td>\n",
       "      <td>327549.0</td>\n",
       "      <td>5358.0</td>\n",
       "      <td>12348.0</td>\n",
       "    </tr>\n",
       "    <tr>\n",
       "      <th>4</th>\n",
       "      <td>2023-12-31</td>\n",
       "      <td>BISON STATE BANK</td>\n",
       "      <td>55774.0</td>\n",
       "      <td>864.0</td>\n",
       "      <td>729.0</td>\n",
       "    </tr>\n",
       "  </tbody>\n",
       "</table>\n",
       "</div>"
      ],
      "text/plain": [
       "  report_date                       institution  total_deposits  \\\n",
       "0         NaN                               NaN             NaN   \n",
       "1  2023-12-31            BANK OF HANCOCK COUNTY         65251.0   \n",
       "2  2023-12-31  FIRST COMMUNITY BANK XENIA-FLORA         46676.0   \n",
       "3  2023-12-31             BROADSTREET BANK, SSB        327549.0   \n",
       "4  2023-12-31                  BISON STATE BANK         55774.0   \n",
       "\n",
       "   interest_bearing_cash  noninterest_cash  \n",
       "0                    NaN               NaN  \n",
       "1                  917.0            4472.0  \n",
       "2                 1278.0            2600.0  \n",
       "3                 5358.0           12348.0  \n",
       "4                  864.0             729.0  "
      ]
     },
     "execution_count": 2,
     "metadata": {},
     "output_type": "execute_result"
    }
   ],
   "source": [
    "df = pd.read_csv(\"../data/cleaned/ffiec_liquidity_panel.csv\")\n",
    "df.head()"
   ]
  },
  {
   "cell_type": "code",
   "execution_count": 3,
   "id": "4149e888",
   "metadata": {},
   "outputs": [],
   "source": [
    "df = df.dropna(how=\"all\").reset_index(drop=True)"
   ]
  },
  {
   "cell_type": "code",
   "execution_count": 4,
   "id": "9c72fb65",
   "metadata": {},
   "outputs": [
    {
     "name": "stdout",
     "output_type": "stream",
     "text": [
      "<class 'pandas.core.frame.DataFrame'>\n",
      "RangeIndex: 18731 entries, 0 to 18730\n",
      "Data columns (total 5 columns):\n",
      " #   Column                 Non-Null Count  Dtype  \n",
      "---  ------                 --------------  -----  \n",
      " 0   report_date            18731 non-null  object \n",
      " 1   institution            18731 non-null  object \n",
      " 2   total_deposits         18731 non-null  float64\n",
      " 3   interest_bearing_cash  18409 non-null  float64\n",
      " 4   noninterest_cash       18409 non-null  float64\n",
      "dtypes: float64(3), object(2)\n",
      "memory usage: 731.8+ KB\n"
     ]
    }
   ],
   "source": [
    "df.info()"
   ]
  },
  {
   "cell_type": "code",
   "execution_count": 5,
   "id": "7028d556",
   "metadata": {},
   "outputs": [
    {
     "data": {
      "text/html": [
       "<div>\n",
       "<style scoped>\n",
       "    .dataframe tbody tr th:only-of-type {\n",
       "        vertical-align: middle;\n",
       "    }\n",
       "\n",
       "    .dataframe tbody tr th {\n",
       "        vertical-align: top;\n",
       "    }\n",
       "\n",
       "    .dataframe thead th {\n",
       "        text-align: right;\n",
       "    }\n",
       "</style>\n",
       "<table border=\"1\" class=\"dataframe\">\n",
       "  <thead>\n",
       "    <tr style=\"text-align: right;\">\n",
       "      <th></th>\n",
       "      <th>total_deposits</th>\n",
       "      <th>interest_bearing_cash</th>\n",
       "      <th>noninterest_cash</th>\n",
       "    </tr>\n",
       "  </thead>\n",
       "  <tbody>\n",
       "    <tr>\n",
       "      <th>count</th>\n",
       "      <td>1.873100e+04</td>\n",
       "      <td>1.840900e+04</td>\n",
       "      <td>1.840900e+04</td>\n",
       "    </tr>\n",
       "    <tr>\n",
       "      <th>mean</th>\n",
       "      <td>3.684180e+06</td>\n",
       "      <td>1.389036e+04</td>\n",
       "      <td>7.445201e+04</td>\n",
       "    </tr>\n",
       "    <tr>\n",
       "      <th>std</th>\n",
       "      <td>5.002271e+07</td>\n",
       "      <td>4.873696e+04</td>\n",
       "      <td>4.591538e+05</td>\n",
       "    </tr>\n",
       "    <tr>\n",
       "      <th>min</th>\n",
       "      <td>0.000000e+00</td>\n",
       "      <td>0.000000e+00</td>\n",
       "      <td>0.000000e+00</td>\n",
       "    </tr>\n",
       "    <tr>\n",
       "      <th>25%</th>\n",
       "      <td>1.202665e+05</td>\n",
       "      <td>1.884000e+03</td>\n",
       "      <td>3.629000e+03</td>\n",
       "    </tr>\n",
       "    <tr>\n",
       "      <th>50%</th>\n",
       "      <td>2.789450e+05</td>\n",
       "      <td>4.243000e+03</td>\n",
       "      <td>1.136700e+04</td>\n",
       "    </tr>\n",
       "    <tr>\n",
       "      <th>75%</th>\n",
       "      <td>6.970275e+05</td>\n",
       "      <td>9.618000e+03</td>\n",
       "      <td>3.660400e+04</td>\n",
       "    </tr>\n",
       "    <tr>\n",
       "      <th>max</th>\n",
       "      <td>2.068042e+09</td>\n",
       "      <td>1.136918e+06</td>\n",
       "      <td>2.135004e+07</td>\n",
       "    </tr>\n",
       "  </tbody>\n",
       "</table>\n",
       "</div>"
      ],
      "text/plain": [
       "       total_deposits  interest_bearing_cash  noninterest_cash\n",
       "count    1.873100e+04           1.840900e+04      1.840900e+04\n",
       "mean     3.684180e+06           1.389036e+04      7.445201e+04\n",
       "std      5.002271e+07           4.873696e+04      4.591538e+05\n",
       "min      0.000000e+00           0.000000e+00      0.000000e+00\n",
       "25%      1.202665e+05           1.884000e+03      3.629000e+03\n",
       "50%      2.789450e+05           4.243000e+03      1.136700e+04\n",
       "75%      6.970275e+05           9.618000e+03      3.660400e+04\n",
       "max      2.068042e+09           1.136918e+06      2.135004e+07"
      ]
     },
     "execution_count": 5,
     "metadata": {},
     "output_type": "execute_result"
    }
   ],
   "source": [
    "df.describe()"
   ]
  },
  {
   "cell_type": "code",
   "execution_count": 6,
   "id": "08a0c154",
   "metadata": {},
   "outputs": [],
   "source": [
    "df[\"cash_buffer_ratio\"] = (\n",
    "    (df[\"interest_bearing_cash\"] + df[\"noninterest_cash\"]) / df[\"total_deposits\"]\n",
    ")"
   ]
  },
  {
   "cell_type": "code",
   "execution_count": 7,
   "id": "34bfc543",
   "metadata": {},
   "outputs": [
    {
     "data": {
      "text/plain": [
       "count    1.839700e+04\n",
       "mean              inf\n",
       "std               NaN\n",
       "min      0.000000e+00\n",
       "25%      3.398887e-02\n",
       "50%      6.442714e-02\n",
       "75%      1.248423e-01\n",
       "max               inf\n",
       "Name: cash_buffer_ratio, dtype: float64"
      ]
     },
     "execution_count": 7,
     "metadata": {},
     "output_type": "execute_result"
    }
   ],
   "source": [
    "df[\"cash_buffer_ratio\"].describe()"
   ]
  },
  {
   "cell_type": "code",
   "execution_count": 8,
   "id": "62408e82",
   "metadata": {},
   "outputs": [],
   "source": [
    "# Remove rows where total_deposits is zero or missing\n",
    "df = df[df[\"total_deposits\"] > 0].copy()\n",
    "\n",
    "# Recompute the ratio safely\n",
    "df[\"cash_buffer_ratio\"] = (\n",
    "    (df[\"interest_bearing_cash\"] + df[\"noninterest_cash\"]) / df[\"total_deposits\"]\n",
    ")"
   ]
  },
  {
   "cell_type": "code",
   "execution_count": 9,
   "id": "7681c53a",
   "metadata": {},
   "outputs": [
    {
     "data": {
      "text/plain": [
       "count    18222.000000\n",
       "mean         5.206651\n",
       "std        468.177247\n",
       "min          0.000000\n",
       "25%          0.033760\n",
       "50%          0.063712\n",
       "75%          0.121983\n",
       "max      46217.500000\n",
       "Name: cash_buffer_ratio, dtype: float64"
      ]
     },
     "execution_count": 9,
     "metadata": {},
     "output_type": "execute_result"
    }
   ],
   "source": [
    "df[\"cash_buffer_ratio\"].describe()"
   ]
  },
  {
   "cell_type": "code",
   "execution_count": 10,
   "id": "a5fa2e3c",
   "metadata": {},
   "outputs": [
    {
     "data": {
      "image/png": "[encoded data removed]",
      "text/plain": [
       "<Figure size 640x480 with 1 Axes>"
      ]
     },
     "metadata": {},
     "output_type": "display_data"
    }
   ],
   "source": [
    "import matplotlib.pyplot as plt\n",
    "df[\"cash_buffer_ratio\"].hist(bins = 50)\n",
    "plt.title(\"Distribution of Cash Buffer Ratio\")\n",
    "plt.xlabel(\"Cash / Total Deposits\")\n",
    "plt.ylabel(\"Number of Banks\")\n",
    "plt.grid(True)\n",
    "plt.show()"
   ]
  },
  {
   "cell_type": "code",
   "execution_count": 11,
   "id": "c2adae84",
   "metadata": {},
   "outputs": [
    {
     "data": {
      "image/png": "[encoded data removed]",
      "text/plain": [
       "<Figure size 640x480 with 1 Axes>"
      ]
     },
     "metadata": {},
     "output_type": "display_data"
    }
   ],
   "source": [
    "# Filtering out extreme outliers (keep only cash_buffer_ratio < 99th percentile)\n",
    "threshold = df[\"cash_buffer_ratio\"].quantile(0.99)\n",
    "df_trimmed = df[df[\"cash_buffer_ratio\"] < threshold]\n",
    "\n",
    "df_trimmed[\"cash_buffer_ratio\"].hist(bins=50)\n",
    "plt.title(\"Cash Buffer Ratio (Trimmed at 99th Percentile)\")\n",
    "plt.xlabel(\"Cash / Total Deposits\")\n",
    "plt.ylabel(\"Number of Banks\")\n",
    "plt.grid(True)\n",
    "plt.show()"
   ]
  },
  {
   "cell_type": "markdown",
   "id": "13ea701a",
   "metadata": {},
   "source": [
    "What the above histogram shows:\n",
    "\n",
    " - Most banks hold a cash buffer ratio between 0.01 and 0.1, that means they keep 1%–10% of their total deposits in cash.\n",
    "\n",
    " - There's a smooth drop-off as the ratio increases beyond 0.1, suggesting few banks hold extremely high cash reserves.\n",
    "\n",
    " - The spread is wide but skewed right (positively skewed), which is typical in financial distributions like buffers, volatility, or returns."
   ]
  },
  {
   "cell_type": "code",
   "execution_count": 12,
   "id": "505b07c0",
   "metadata": {},
   "outputs": [
    {
     "data": {
      "text/html": [
       "<div>\n",
       "<style scoped>\n",
       "    .dataframe tbody tr th:only-of-type {\n",
       "        vertical-align: middle;\n",
       "    }\n",
       "\n",
       "    .dataframe tbody tr th {\n",
       "        vertical-align: top;\n",
       "    }\n",
       "\n",
       "    .dataframe thead th {\n",
       "        text-align: right;\n",
       "    }\n",
       "</style>\n",
       "<table border=\"1\" class=\"dataframe\">\n",
       "  <thead>\n",
       "    <tr style=\"text-align: right;\">\n",
       "      <th></th>\n",
       "      <th>report_date</th>\n",
       "      <th>institution</th>\n",
       "      <th>total_deposits</th>\n",
       "      <th>interest_bearing_cash</th>\n",
       "      <th>noninterest_cash</th>\n",
       "      <th>cash_buffer_ratio</th>\n",
       "    </tr>\n",
       "  </thead>\n",
       "  <tbody>\n",
       "    <tr>\n",
       "      <th>0</th>\n",
       "      <td>2023-12-31</td>\n",
       "      <td>BANK OF HANCOCK COUNTY</td>\n",
       "      <td>65251.0</td>\n",
       "      <td>917.0</td>\n",
       "      <td>4472.0</td>\n",
       "      <td>0.082589</td>\n",
       "    </tr>\n",
       "    <tr>\n",
       "      <th>1</th>\n",
       "      <td>2023-12-31</td>\n",
       "      <td>FIRST COMMUNITY BANK XENIA-FLORA</td>\n",
       "      <td>46676.0</td>\n",
       "      <td>1278.0</td>\n",
       "      <td>2600.0</td>\n",
       "      <td>0.083083</td>\n",
       "    </tr>\n",
       "    <tr>\n",
       "      <th>2</th>\n",
       "      <td>2023-12-31</td>\n",
       "      <td>BROADSTREET BANK, SSB</td>\n",
       "      <td>327549.0</td>\n",
       "      <td>5358.0</td>\n",
       "      <td>12348.0</td>\n",
       "      <td>0.054056</td>\n",
       "    </tr>\n",
       "    <tr>\n",
       "      <th>3</th>\n",
       "      <td>2023-12-31</td>\n",
       "      <td>BISON STATE BANK</td>\n",
       "      <td>55774.0</td>\n",
       "      <td>864.0</td>\n",
       "      <td>729.0</td>\n",
       "      <td>0.028562</td>\n",
       "    </tr>\n",
       "    <tr>\n",
       "      <th>4</th>\n",
       "      <td>2023-12-31</td>\n",
       "      <td>LOWRY STATE BANK</td>\n",
       "      <td>63215.0</td>\n",
       "      <td>1220.0</td>\n",
       "      <td>2492.0</td>\n",
       "      <td>0.058720</td>\n",
       "    </tr>\n",
       "  </tbody>\n",
       "</table>\n",
       "</div>"
      ],
      "text/plain": [
       "  report_date                       institution  total_deposits  \\\n",
       "0  2023-12-31            BANK OF HANCOCK COUNTY         65251.0   \n",
       "1  2023-12-31  FIRST COMMUNITY BANK XENIA-FLORA         46676.0   \n",
       "2  2023-12-31             BROADSTREET BANK, SSB        327549.0   \n",
       "3  2023-12-31                  BISON STATE BANK         55774.0   \n",
       "4  2023-12-31                  LOWRY STATE BANK         63215.0   \n",
       "\n",
       "   interest_bearing_cash  noninterest_cash  cash_buffer_ratio  \n",
       "0                  917.0            4472.0           0.082589  \n",
       "1                 1278.0            2600.0           0.083083  \n",
       "2                 5358.0           12348.0           0.054056  \n",
       "3                  864.0             729.0           0.028562  \n",
       "4                 1220.0            2492.0           0.058720  "
      ]
     },
     "execution_count": 12,
     "metadata": {},
     "output_type": "execute_result"
    }
   ],
   "source": [
    "df.head()"
   ]
  },
  {
   "cell_type": "code",
   "execution_count": 13,
   "id": "d5b08473",
   "metadata": {},
   "outputs": [
    {
     "data": {
      "image/png": "[encoded data removed]",
      "text/plain": [
       "<Figure size 640x480 with 1 Axes>"
      ]
     },
     "metadata": {},
     "output_type": "display_data"
    }
   ],
   "source": [
    "# Convert report_date to proper datetime type (if needed)\n",
    "df[\"report_date\"] = pd.to_datetime(df[\"report_date\"])\n",
    "\n",
    "# Group by report_date and calculate average buffer per quarter\n",
    "avg_buffer_by_date = df.groupby(\"report_date\")[\"cash_buffer_ratio\"].mean()\n",
    "\n",
    "# Plot the time trend\n",
    "avg_buffer_by_date.plot(marker='o', linestyle='-')\n",
    "plt.title(\"Average Cash Buffer Ratio Over Time\")\n",
    "plt.xlabel(\"Reporting Date\")\n",
    "plt.ylabel(\"Mean Cash / Total Deposits\")\n",
    "plt.grid(True)\n",
    "plt.xticks(rotation=45)\n",
    "plt.tight_layout()\n",
    "plt.show()"
   ]
  },
  {
   "cell_type": "markdown",
   "id": "92a8b0a1",
   "metadata": {},
   "source": [
    "This is a line chart of the average cash buffer ratio (cash divided by total deposits) across four quarters of 2023.\n",
    " - Q1 and Q2: The average ratio is flat at zero, which suggests that many banks didn’t report either interest_bearing_cash or noninterest_cash for those   quarters. It may also hint that those fields were newly populated or cleaned only in later reports.\n",
    " - Q3 spike: There's a sharp rise in average liquidity buffers. This means that, by Q3, most reporting banks were suddenly holding more cash relative to deposits—or more likely, the data coverage improved (more banks started reporting those fields accurately).\n",
    "- Q4 slight dip: The ratio softens a bit, but still remains high, around 9–10%. That’s still much higher than expected under normal conditions, so it might point to:\n",
    "\n",
    "    - A reaction to market events (e.g. increased deposit uncertainty),\n",
    "\n",
    "    - Regulatory caution (e.g. LCR compliance), Or\n",
    "\n",
    "    - lingering reporting anomalies (some banks reporting unusually high figures)."
   ]
  },
  {
   "cell_type": "code",
   "execution_count": 14,
   "id": "a82035a1",
   "metadata": {},
   "outputs": [
    {
     "data": {
      "image/png": "[encoded data removed]",
      "text/plain": [
       "<Figure size 640x480 with 1 Axes>"
      ]
     },
     "metadata": {},
     "output_type": "display_data"
    }
   ],
   "source": [
    "# Count how many banks had valid (non-NaN) cash_buffer_ratio per quarter\n",
    "valid_counts = df.groupby(\"report_date\")[\"cash_buffer_ratio\"].count()\n",
    "\n",
    "# Plot the result\n",
    "valid_counts.plot(kind='bar', color='skyblue')\n",
    "plt.title(\"Number of Banks Reporting Valid Cash Buffer Ratio\")\n",
    "plt.xlabel(\"Reporting Quarter\")\n",
    "plt.ylabel(\"Number of Banks\")\n",
    "plt.xticks(rotation=45)\n",
    "plt.grid(axis='y')\n",
    "plt.tight_layout()\n",
    "plt.show()"
   ]
  },
  {
   "cell_type": "code",
   "execution_count": 15,
   "id": "3c4f64b7",
   "metadata": {},
   "outputs": [
    {
     "data": {
      "text/html": [
       "<div>\n",
       "<style scoped>\n",
       "    .dataframe tbody tr th:only-of-type {\n",
       "        vertical-align: middle;\n",
       "    }\n",
       "\n",
       "    .dataframe tbody tr th {\n",
       "        vertical-align: top;\n",
       "    }\n",
       "\n",
       "    .dataframe thead th {\n",
       "        text-align: right;\n",
       "    }\n",
       "</style>\n",
       "<table border=\"1\" class=\"dataframe\">\n",
       "  <thead>\n",
       "    <tr style=\"text-align: right;\">\n",
       "      <th></th>\n",
       "      <th>report_date</th>\n",
       "      <th>fed_funds_rate</th>\n",
       "    </tr>\n",
       "  </thead>\n",
       "  <tbody>\n",
       "    <tr>\n",
       "      <th>846</th>\n",
       "      <td>2025-01-01</td>\n",
       "      <td>4.33</td>\n",
       "    </tr>\n",
       "    <tr>\n",
       "      <th>847</th>\n",
       "      <td>2025-01-02</td>\n",
       "      <td>4.33</td>\n",
       "    </tr>\n",
       "    <tr>\n",
       "      <th>848</th>\n",
       "      <td>2025-01-03</td>\n",
       "      <td>4.33</td>\n",
       "    </tr>\n",
       "    <tr>\n",
       "      <th>849</th>\n",
       "      <td>2025-01-04</td>\n",
       "      <td>4.33</td>\n",
       "    </tr>\n",
       "    <tr>\n",
       "      <th>850</th>\n",
       "      <td>2025-01-05</td>\n",
       "      <td>4.33</td>\n",
       "    </tr>\n",
       "  </tbody>\n",
       "</table>\n",
       "</div>"
      ],
      "text/plain": [
       "    report_date  fed_funds_rate\n",
       "846  2025-01-01            4.33\n",
       "847  2025-01-02            4.33\n",
       "848  2025-01-03            4.33\n",
       "849  2025-01-04            4.33\n",
       "850  2025-01-05            4.33"
      ]
     },
     "execution_count": 15,
     "metadata": {},
     "output_type": "execute_result"
    }
   ],
   "source": [
    "# Step 1: Loading the Federal Funds Rate data\n",
    "fed = pd.read_csv(\"../data/macro/FEDFUNDS.csv\")\n",
    "\n",
    "# Step 2: Renaming columns for clarity\n",
    "fed.columns = [\"report_date\", \"fed_funds_rate\"]\n",
    "\n",
    "# Step 3: Converting date column to datetime\n",
    "fed[\"report_date\"] = pd.to_datetime(fed[\"report_date\"])\n",
    "\n",
    "fed.tail()"
   ]
  },
  {
   "cell_type": "code",
   "execution_count": 16,
   "id": "5512bc94",
   "metadata": {},
   "outputs": [
    {
     "data": {
      "text/html": [
       "<div>\n",
       "<style scoped>\n",
       "    .dataframe tbody tr th:only-of-type {\n",
       "        vertical-align: middle;\n",
       "    }\n",
       "\n",
       "    .dataframe tbody tr th {\n",
       "        vertical-align: top;\n",
       "    }\n",
       "\n",
       "    .dataframe thead th {\n",
       "        text-align: right;\n",
       "    }\n",
       "</style>\n",
       "<table border=\"1\" class=\"dataframe\">\n",
       "  <thead>\n",
       "    <tr style=\"text-align: right;\">\n",
       "      <th></th>\n",
       "      <th>report_date</th>\n",
       "      <th>fed_funds_rate</th>\n",
       "    </tr>\n",
       "  </thead>\n",
       "  <tbody>\n",
       "    <tr>\n",
       "      <th>280</th>\n",
       "      <td>2024-03-31</td>\n",
       "      <td>5.143333</td>\n",
       "    </tr>\n",
       "    <tr>\n",
       "      <th>281</th>\n",
       "      <td>2024-06-30</td>\n",
       "      <td>NaN</td>\n",
       "    </tr>\n",
       "    <tr>\n",
       "      <th>282</th>\n",
       "      <td>2024-09-30</td>\n",
       "      <td>NaN</td>\n",
       "    </tr>\n",
       "    <tr>\n",
       "      <th>283</th>\n",
       "      <td>2024-12-31</td>\n",
       "      <td>NaN</td>\n",
       "    </tr>\n",
       "    <tr>\n",
       "      <th>284</th>\n",
       "      <td>2025-03-31</td>\n",
       "      <td>4.330000</td>\n",
       "    </tr>\n",
       "  </tbody>\n",
       "</table>\n",
       "</div>"
      ],
      "text/plain": [
       "    report_date  fed_funds_rate\n",
       "280  2024-03-31        5.143333\n",
       "281  2024-06-30             NaN\n",
       "282  2024-09-30             NaN\n",
       "283  2024-12-31             NaN\n",
       "284  2025-03-31        4.330000"
      ]
     },
     "execution_count": 16,
     "metadata": {},
     "output_type": "execute_result"
    }
   ],
   "source": [
    "# Aggregating to quarterly frequency using the mean rate for each quarter\n",
    "fed_quarterly = fed.resample(\"Q\", on=\"report_date\").mean().reset_index()\n",
    "\n",
    "fed_quarterly.tail()"
   ]
  },
  {
   "cell_type": "code",
   "execution_count": 17,
   "id": "8d386e2a",
   "metadata": {},
   "outputs": [
    {
     "data": {
      "text/html": [
       "<div>\n",
       "<style scoped>\n",
       "    .dataframe tbody tr th:only-of-type {\n",
       "        vertical-align: middle;\n",
       "    }\n",
       "\n",
       "    .dataframe tbody tr th {\n",
       "        vertical-align: top;\n",
       "    }\n",
       "\n",
       "    .dataframe thead th {\n",
       "        text-align: right;\n",
       "    }\n",
       "</style>\n",
       "<table border=\"1\" class=\"dataframe\">\n",
       "  <thead>\n",
       "    <tr style=\"text-align: right;\">\n",
       "      <th></th>\n",
       "      <th>report_date</th>\n",
       "      <th>fed_funds_rate</th>\n",
       "    </tr>\n",
       "  </thead>\n",
       "  <tbody>\n",
       "    <tr>\n",
       "      <th>280</th>\n",
       "      <td>2024-03-31</td>\n",
       "      <td>5.143333</td>\n",
       "    </tr>\n",
       "    <tr>\n",
       "      <th>281</th>\n",
       "      <td>2024-06-30</td>\n",
       "      <td>5.143333</td>\n",
       "    </tr>\n",
       "    <tr>\n",
       "      <th>282</th>\n",
       "      <td>2024-09-30</td>\n",
       "      <td>5.143333</td>\n",
       "    </tr>\n",
       "    <tr>\n",
       "      <th>283</th>\n",
       "      <td>2024-12-31</td>\n",
       "      <td>5.143333</td>\n",
       "    </tr>\n",
       "    <tr>\n",
       "      <th>284</th>\n",
       "      <td>2025-03-31</td>\n",
       "      <td>4.330000</td>\n",
       "    </tr>\n",
       "  </tbody>\n",
       "</table>\n",
       "</div>"
      ],
      "text/plain": [
       "    report_date  fed_funds_rate\n",
       "280  2024-03-31        5.143333\n",
       "281  2024-06-30        5.143333\n",
       "282  2024-09-30        5.143333\n",
       "283  2024-12-31        5.143333\n",
       "284  2025-03-31        4.330000"
      ]
     },
     "execution_count": 17,
     "metadata": {},
     "output_type": "execute_result"
    }
   ],
   "source": [
    "# Filling missing interest rate values with the previous known value\n",
    "fed_quarterly[\"fed_funds_rate\"] = fed_quarterly[\"fed_funds_rate\"].ffill()\n",
    "\n",
    "fed_quarterly.tail()"
   ]
  },
  {
   "cell_type": "code",
   "execution_count": 18,
   "id": "f516b6ba",
   "metadata": {},
   "outputs": [
    {
     "data": {
      "text/html": [
       "<div>\n",
       "<style scoped>\n",
       "    .dataframe tbody tr th:only-of-type {\n",
       "        vertical-align: middle;\n",
       "    }\n",
       "\n",
       "    .dataframe tbody tr th {\n",
       "        vertical-align: top;\n",
       "    }\n",
       "\n",
       "    .dataframe thead th {\n",
       "        text-align: right;\n",
       "    }\n",
       "</style>\n",
       "<table border=\"1\" class=\"dataframe\">\n",
       "  <thead>\n",
       "    <tr style=\"text-align: right;\">\n",
       "      <th></th>\n",
       "      <th>report_date</th>\n",
       "      <th>cpi_index</th>\n",
       "    </tr>\n",
       "  </thead>\n",
       "  <tbody>\n",
       "    <tr>\n",
       "      <th>936</th>\n",
       "      <td>2025-01-01</td>\n",
       "      <td>319.086</td>\n",
       "    </tr>\n",
       "    <tr>\n",
       "      <th>937</th>\n",
       "      <td>2025-01-02</td>\n",
       "      <td>319.775</td>\n",
       "    </tr>\n",
       "    <tr>\n",
       "      <th>938</th>\n",
       "      <td>2025-01-03</td>\n",
       "      <td>319.615</td>\n",
       "    </tr>\n",
       "    <tr>\n",
       "      <th>939</th>\n",
       "      <td>2025-01-04</td>\n",
       "      <td>320.321</td>\n",
       "    </tr>\n",
       "    <tr>\n",
       "      <th>940</th>\n",
       "      <td>2025-01-05</td>\n",
       "      <td>320.580</td>\n",
       "    </tr>\n",
       "  </tbody>\n",
       "</table>\n",
       "</div>"
      ],
      "text/plain": [
       "    report_date  cpi_index\n",
       "936  2025-01-01    319.086\n",
       "937  2025-01-02    319.775\n",
       "938  2025-01-03    319.615\n",
       "939  2025-01-04    320.321\n",
       "940  2025-01-05    320.580"
      ]
     },
     "execution_count": 18,
     "metadata": {},
     "output_type": "execute_result"
    }
   ],
   "source": [
    "# Step 1: Loading the CPI data\n",
    "cpi = pd.read_csv(\"../data/macro/CPIAUCSL.csv\")\n",
    "\n",
    "# Step 2: Renaming columns for clarity\n",
    "cpi.columns = [\"report_date\", \"cpi_index\"]\n",
    "\n",
    "# Step 3: Converting date column to datetime\n",
    "cpi[\"report_date\"] = pd.to_datetime(cpi[\"report_date\"])\n",
    "\n",
    "cpi.tail()"
   ]
  },
  {
   "cell_type": "code",
   "execution_count": 19,
   "id": "e777d130",
   "metadata": {},
   "outputs": [
    {
     "data": {
      "text/html": [
       "<div>\n",
       "<style scoped>\n",
       "    .dataframe tbody tr th:only-of-type {\n",
       "        vertical-align: middle;\n",
       "    }\n",
       "\n",
       "    .dataframe tbody tr th {\n",
       "        vertical-align: top;\n",
       "    }\n",
       "\n",
       "    .dataframe thead th {\n",
       "        text-align: right;\n",
       "    }\n",
       "</style>\n",
       "<table border=\"1\" class=\"dataframe\">\n",
       "  <thead>\n",
       "    <tr style=\"text-align: right;\">\n",
       "      <th></th>\n",
       "      <th>report_date</th>\n",
       "      <th>cpi_index</th>\n",
       "    </tr>\n",
       "  </thead>\n",
       "  <tbody>\n",
       "    <tr>\n",
       "      <th>308</th>\n",
       "      <td>2024-03-31</td>\n",
       "      <td>313.697833</td>\n",
       "    </tr>\n",
       "    <tr>\n",
       "      <th>309</th>\n",
       "      <td>2024-06-30</td>\n",
       "      <td>NaN</td>\n",
       "    </tr>\n",
       "    <tr>\n",
       "      <th>310</th>\n",
       "      <td>2024-09-30</td>\n",
       "      <td>NaN</td>\n",
       "    </tr>\n",
       "    <tr>\n",
       "      <th>311</th>\n",
       "      <td>2024-12-31</td>\n",
       "      <td>NaN</td>\n",
       "    </tr>\n",
       "    <tr>\n",
       "      <th>312</th>\n",
       "      <td>2025-03-31</td>\n",
       "      <td>319.875400</td>\n",
       "    </tr>\n",
       "  </tbody>\n",
       "</table>\n",
       "</div>"
      ],
      "text/plain": [
       "    report_date   cpi_index\n",
       "308  2024-03-31  313.697833\n",
       "309  2024-06-30         NaN\n",
       "310  2024-09-30         NaN\n",
       "311  2024-12-31         NaN\n",
       "312  2025-03-31  319.875400"
      ]
     },
     "execution_count": 19,
     "metadata": {},
     "output_type": "execute_result"
    }
   ],
   "source": [
    "# Aggregating CPI to quarterly frequency using the mean value for each quarter\n",
    "cpi_quarterly = cpi.resample(\"Q\", on=\"report_date\").mean().reset_index()\n",
    "\n",
    "cpi_quarterly.tail()"
   ]
  },
  {
   "cell_type": "markdown",
   "id": "b012cb32",
   "metadata": {},
   "source": [
    "Just like with the Fed Funds Rate, the CPI data is missing for some quarters in 2024, likely because the source file ends early or has not been updated for those dates. For this I will using forward-fill to fill in the missing CPI values for every quarter same as I did for Fed Funds Rate\n"
   ]
  },
  {
   "cell_type": "code",
   "execution_count": 20,
   "id": "bc028084",
   "metadata": {},
   "outputs": [
    {
     "data": {
      "text/html": [
       "<div>\n",
       "<style scoped>\n",
       "    .dataframe tbody tr th:only-of-type {\n",
       "        vertical-align: middle;\n",
       "    }\n",
       "\n",
       "    .dataframe tbody tr th {\n",
       "        vertical-align: top;\n",
       "    }\n",
       "\n",
       "    .dataframe thead th {\n",
       "        text-align: right;\n",
       "    }\n",
       "</style>\n",
       "<table border=\"1\" class=\"dataframe\">\n",
       "  <thead>\n",
       "    <tr style=\"text-align: right;\">\n",
       "      <th></th>\n",
       "      <th>report_date</th>\n",
       "      <th>cpi_index</th>\n",
       "    </tr>\n",
       "  </thead>\n",
       "  <tbody>\n",
       "    <tr>\n",
       "      <th>308</th>\n",
       "      <td>2024-03-31</td>\n",
       "      <td>313.697833</td>\n",
       "    </tr>\n",
       "    <tr>\n",
       "      <th>309</th>\n",
       "      <td>2024-06-30</td>\n",
       "      <td>313.697833</td>\n",
       "    </tr>\n",
       "    <tr>\n",
       "      <th>310</th>\n",
       "      <td>2024-09-30</td>\n",
       "      <td>313.697833</td>\n",
       "    </tr>\n",
       "    <tr>\n",
       "      <th>311</th>\n",
       "      <td>2024-12-31</td>\n",
       "      <td>313.697833</td>\n",
       "    </tr>\n",
       "    <tr>\n",
       "      <th>312</th>\n",
       "      <td>2025-03-31</td>\n",
       "      <td>319.875400</td>\n",
       "    </tr>\n",
       "  </tbody>\n",
       "</table>\n",
       "</div>"
      ],
      "text/plain": [
       "    report_date   cpi_index\n",
       "308  2024-03-31  313.697833\n",
       "309  2024-06-30  313.697833\n",
       "310  2024-09-30  313.697833\n",
       "311  2024-12-31  313.697833\n",
       "312  2025-03-31  319.875400"
      ]
     },
     "execution_count": 20,
     "metadata": {},
     "output_type": "execute_result"
    }
   ],
   "source": [
    "# Filling the missing CPI values with the previous known values\n",
    "cpi_quarterly[\"cpi_index\"] = cpi_quarterly[\"cpi_index\"].ffill()\n",
    "\n",
    "cpi_quarterly.tail()"
   ]
  },
  {
   "cell_type": "code",
   "execution_count": 21,
   "id": "3e54cdb8",
   "metadata": {},
   "outputs": [
    {
     "data": {
      "text/html": [
       "<div>\n",
       "<style scoped>\n",
       "    .dataframe tbody tr th:only-of-type {\n",
       "        vertical-align: middle;\n",
       "    }\n",
       "\n",
       "    .dataframe tbody tr th {\n",
       "        vertical-align: top;\n",
       "    }\n",
       "\n",
       "    .dataframe thead th {\n",
       "        text-align: right;\n",
       "    }\n",
       "</style>\n",
       "<table border=\"1\" class=\"dataframe\">\n",
       "  <thead>\n",
       "    <tr style=\"text-align: right;\">\n",
       "      <th></th>\n",
       "      <th>report_date</th>\n",
       "      <th>gs10_rate</th>\n",
       "    </tr>\n",
       "  </thead>\n",
       "  <tbody>\n",
       "    <tr>\n",
       "      <th>861</th>\n",
       "      <td>2025-01-01</td>\n",
       "      <td>4.63</td>\n",
       "    </tr>\n",
       "    <tr>\n",
       "      <th>862</th>\n",
       "      <td>2025-02-01</td>\n",
       "      <td>4.45</td>\n",
       "    </tr>\n",
       "    <tr>\n",
       "      <th>863</th>\n",
       "      <td>2025-03-01</td>\n",
       "      <td>4.28</td>\n",
       "    </tr>\n",
       "    <tr>\n",
       "      <th>864</th>\n",
       "      <td>2025-04-01</td>\n",
       "      <td>4.28</td>\n",
       "    </tr>\n",
       "    <tr>\n",
       "      <th>865</th>\n",
       "      <td>2025-05-01</td>\n",
       "      <td>4.42</td>\n",
       "    </tr>\n",
       "  </tbody>\n",
       "</table>\n",
       "</div>"
      ],
      "text/plain": [
       "    report_date  gs10_rate\n",
       "861  2025-01-01       4.63\n",
       "862  2025-02-01       4.45\n",
       "863  2025-03-01       4.28\n",
       "864  2025-04-01       4.28\n",
       "865  2025-05-01       4.42"
      ]
     },
     "execution_count": 21,
     "metadata": {},
     "output_type": "execute_result"
    }
   ],
   "source": [
    "# Step 1: Loading the 10-Year Treasury Rate data\n",
    "gs10 = pd.read_csv(\"../data/macro/GS10.csv\")\n",
    "\n",
    "# Step 2: Renaming columns for clarity\n",
    "gs10.columns = [\"report_date\", \"gs10_rate\"]\n",
    "\n",
    "# Step 3: Converting date column to datetime\n",
    "gs10[\"report_date\"] = pd.to_datetime(gs10[\"report_date\"])\n",
    "\n",
    "gs10.tail()"
   ]
  },
  {
   "cell_type": "code",
   "execution_count": 22,
   "id": "577870a8",
   "metadata": {},
   "outputs": [
    {
     "data": {
      "text/html": [
       "<div>\n",
       "<style scoped>\n",
       "    .dataframe tbody tr th:only-of-type {\n",
       "        vertical-align: middle;\n",
       "    }\n",
       "\n",
       "    .dataframe tbody tr th {\n",
       "        vertical-align: top;\n",
       "    }\n",
       "\n",
       "    .dataframe thead th {\n",
       "        text-align: right;\n",
       "    }\n",
       "</style>\n",
       "<table border=\"1\" class=\"dataframe\">\n",
       "  <thead>\n",
       "    <tr style=\"text-align: right;\">\n",
       "      <th></th>\n",
       "      <th>report_date</th>\n",
       "      <th>gs10_rate</th>\n",
       "    </tr>\n",
       "  </thead>\n",
       "  <tbody>\n",
       "    <tr>\n",
       "      <th>284</th>\n",
       "      <td>2024-06-30</td>\n",
       "      <td>4.443333</td>\n",
       "    </tr>\n",
       "    <tr>\n",
       "      <th>285</th>\n",
       "      <td>2024-09-30</td>\n",
       "      <td>3.946667</td>\n",
       "    </tr>\n",
       "    <tr>\n",
       "      <th>286</th>\n",
       "      <td>2024-12-31</td>\n",
       "      <td>4.283333</td>\n",
       "    </tr>\n",
       "    <tr>\n",
       "      <th>287</th>\n",
       "      <td>2025-03-31</td>\n",
       "      <td>4.453333</td>\n",
       "    </tr>\n",
       "    <tr>\n",
       "      <th>288</th>\n",
       "      <td>2025-06-30</td>\n",
       "      <td>4.350000</td>\n",
       "    </tr>\n",
       "  </tbody>\n",
       "</table>\n",
       "</div>"
      ],
      "text/plain": [
       "    report_date  gs10_rate\n",
       "284  2024-06-30   4.443333\n",
       "285  2024-09-30   3.946667\n",
       "286  2024-12-31   4.283333\n",
       "287  2025-03-31   4.453333\n",
       "288  2025-06-30   4.350000"
      ]
     },
     "execution_count": 22,
     "metadata": {},
     "output_type": "execute_result"
    }
   ],
   "source": [
    "# Aggregating GS10 to quarterly frequency using the mean value for each quarter\n",
    "gs10_quarterly = gs10.resample(\"Q\", on=\"report_date\").mean().reset_index()\n",
    "\n",
    "gs10_quarterly.tail()"
   ]
  },
  {
   "cell_type": "markdown",
   "id": "9d0e99f5",
   "metadata": {},
   "source": [
    "Surprisingly, it is clean and there are no missing values in quarterly summary of the 10-Year Treasury yield. "
   ]
  },
  {
   "cell_type": "markdown",
   "id": "ebb80828",
   "metadata": {},
   "source": []
  },
  {
   "cell_type": "markdown",
   "id": "0f2ba575",
   "metadata": {},
   "source": [
    "Now, I will be merging all the 3 Macro Data into One table"
   ]
  },
  {
   "cell_type": "code",
   "execution_count": 23,
   "id": "f99762da",
   "metadata": {},
   "outputs": [
    {
     "data": {
      "text/html": [
       "<div>\n",
       "<style scoped>\n",
       "    .dataframe tbody tr th:only-of-type {\n",
       "        vertical-align: middle;\n",
       "    }\n",
       "\n",
       "    .dataframe tbody tr th {\n",
       "        vertical-align: top;\n",
       "    }\n",
       "\n",
       "    .dataframe thead th {\n",
       "        text-align: right;\n",
       "    }\n",
       "</style>\n",
       "<table border=\"1\" class=\"dataframe\">\n",
       "  <thead>\n",
       "    <tr style=\"text-align: right;\">\n",
       "      <th></th>\n",
       "      <th>report_date</th>\n",
       "      <th>fed_funds_rate</th>\n",
       "      <th>cpi_index</th>\n",
       "      <th>gs10_rate</th>\n",
       "    </tr>\n",
       "  </thead>\n",
       "  <tbody>\n",
       "    <tr>\n",
       "      <th>309</th>\n",
       "      <td>2024-06-30</td>\n",
       "      <td>5.143333</td>\n",
       "      <td>313.697833</td>\n",
       "      <td>4.443333</td>\n",
       "    </tr>\n",
       "    <tr>\n",
       "      <th>310</th>\n",
       "      <td>2024-09-30</td>\n",
       "      <td>5.143333</td>\n",
       "      <td>313.697833</td>\n",
       "      <td>3.946667</td>\n",
       "    </tr>\n",
       "    <tr>\n",
       "      <th>311</th>\n",
       "      <td>2024-12-31</td>\n",
       "      <td>5.143333</td>\n",
       "      <td>313.697833</td>\n",
       "      <td>4.283333</td>\n",
       "    </tr>\n",
       "    <tr>\n",
       "      <th>312</th>\n",
       "      <td>2025-03-31</td>\n",
       "      <td>4.330000</td>\n",
       "      <td>319.875400</td>\n",
       "      <td>4.453333</td>\n",
       "    </tr>\n",
       "    <tr>\n",
       "      <th>313</th>\n",
       "      <td>2025-06-30</td>\n",
       "      <td>NaN</td>\n",
       "      <td>NaN</td>\n",
       "      <td>4.350000</td>\n",
       "    </tr>\n",
       "  </tbody>\n",
       "</table>\n",
       "</div>"
      ],
      "text/plain": [
       "    report_date  fed_funds_rate   cpi_index  gs10_rate\n",
       "309  2024-06-30        5.143333  313.697833   4.443333\n",
       "310  2024-09-30        5.143333  313.697833   3.946667\n",
       "311  2024-12-31        5.143333  313.697833   4.283333\n",
       "312  2025-03-31        4.330000  319.875400   4.453333\n",
       "313  2025-06-30             NaN         NaN   4.350000"
      ]
     },
     "execution_count": 23,
     "metadata": {},
     "output_type": "execute_result"
    }
   ],
   "source": [
    "# Merging Fed Funds Rate and CPI\n",
    "macro = pd.merge(fed_quarterly, cpi_quarterly, on=\"report_date\", how=\"outer\")\n",
    "\n",
    "# Merging the result with GS10\n",
    "macro = pd.merge(macro, gs10_quarterly, on=\"report_date\", how=\"outer\")\n",
    "\n",
    "# Sorting the values by date\n",
    "macro = macro.sort_values(\"report_date\").reset_index(drop=True)\n",
    "\n",
    "macro.tail()"
   ]
  },
  {
   "cell_type": "markdown",
   "id": "970127df",
   "metadata": {},
   "source": [
    "All three macro indicators—Fed Funds Rate, CPI, and 10-Year Treasury are now aligned by quarter. Furthermore, the data is clean and ready to be merged with bank-level dataset.\n",
    "\n",
    "Only the last row (2025-06-30) has missing values for Fed Funds Rate and CPI, which is fine since FFIEC bank data likely does not go that far yet."
   ]
  },
  {
   "cell_type": "markdown",
   "id": "1350f013",
   "metadata": {},
   "source": [
    "Now I am merging this macro data with main bank-level DataFrame (df)"
   ]
  },
  {
   "cell_type": "code",
   "execution_count": 24,
   "id": "87242a14",
   "metadata": {},
   "outputs": [
    {
     "data": {
      "text/html": [
       "<div>\n",
       "<style scoped>\n",
       "    .dataframe tbody tr th:only-of-type {\n",
       "        vertical-align: middle;\n",
       "    }\n",
       "\n",
       "    .dataframe tbody tr th {\n",
       "        vertical-align: top;\n",
       "    }\n",
       "\n",
       "    .dataframe thead th {\n",
       "        text-align: right;\n",
       "    }\n",
       "</style>\n",
       "<table border=\"1\" class=\"dataframe\">\n",
       "  <thead>\n",
       "    <tr style=\"text-align: right;\">\n",
       "      <th></th>\n",
       "      <th>report_date</th>\n",
       "      <th>institution</th>\n",
       "      <th>cash_buffer_ratio</th>\n",
       "      <th>fed_funds_rate</th>\n",
       "      <th>cpi_index</th>\n",
       "      <th>gs10_rate</th>\n",
       "    </tr>\n",
       "  </thead>\n",
       "  <tbody>\n",
       "    <tr>\n",
       "      <th>18511</th>\n",
       "      <td>2023-03-31</td>\n",
       "      <td>BANK OF BURLINGTON</td>\n",
       "      <td>0.304934</td>\n",
       "      <td>5.024167</td>\n",
       "      <td>304.704167</td>\n",
       "      <td>3.646667</td>\n",
       "    </tr>\n",
       "    <tr>\n",
       "      <th>18512</th>\n",
       "      <td>2023-03-31</td>\n",
       "      <td>ADELPHI BANK</td>\n",
       "      <td>0.167043</td>\n",
       "      <td>5.024167</td>\n",
       "      <td>304.704167</td>\n",
       "      <td>3.646667</td>\n",
       "    </tr>\n",
       "    <tr>\n",
       "      <th>18513</th>\n",
       "      <td>2023-03-31</td>\n",
       "      <td>GS&amp;L MUNICIPAL BANK</td>\n",
       "      <td>0.225102</td>\n",
       "      <td>5.024167</td>\n",
       "      <td>304.704167</td>\n",
       "      <td>3.646667</td>\n",
       "    </tr>\n",
       "    <tr>\n",
       "      <th>18514</th>\n",
       "      <td>2023-03-31</td>\n",
       "      <td>WALDEN MUTUAL BANK</td>\n",
       "      <td>0.599111</td>\n",
       "      <td>5.024167</td>\n",
       "      <td>304.704167</td>\n",
       "      <td>3.646667</td>\n",
       "    </tr>\n",
       "    <tr>\n",
       "      <th>18515</th>\n",
       "      <td>2023-03-31</td>\n",
       "      <td>BANK IRVINE</td>\n",
       "      <td>0.710001</td>\n",
       "      <td>5.024167</td>\n",
       "      <td>304.704167</td>\n",
       "      <td>3.646667</td>\n",
       "    </tr>\n",
       "  </tbody>\n",
       "</table>\n",
       "</div>"
      ],
      "text/plain": [
       "      report_date          institution  cash_buffer_ratio  fed_funds_rate  \\\n",
       "18511  2023-03-31   BANK OF BURLINGTON           0.304934        5.024167   \n",
       "18512  2023-03-31         ADELPHI BANK           0.167043        5.024167   \n",
       "18513  2023-03-31  GS&L MUNICIPAL BANK           0.225102        5.024167   \n",
       "18514  2023-03-31   WALDEN MUTUAL BANK           0.599111        5.024167   \n",
       "18515  2023-03-31          BANK IRVINE           0.710001        5.024167   \n",
       "\n",
       "        cpi_index  gs10_rate  \n",
       "18511  304.704167   3.646667  \n",
       "18512  304.704167   3.646667  \n",
       "18513  304.704167   3.646667  \n",
       "18514  304.704167   3.646667  \n",
       "18515  304.704167   3.646667  "
      ]
     },
     "execution_count": 24,
     "metadata": {},
     "output_type": "execute_result"
    }
   ],
   "source": [
    "# Merging macroeconomic indicators into the bank-level dataset\n",
    "df_merged = pd.merge(df, macro, on=\"report_date\", how=\"left\")\n",
    "\n",
    "# Preview of the final dataset\n",
    "df_merged[[\"report_date\", \"institution\", \"cash_buffer_ratio\", \n",
    "           \"fed_funds_rate\", \"cpi_index\", \"gs10_rate\"]].tail()"
   ]
  },
  {
   "cell_type": "markdown",
   "id": "ac25958d",
   "metadata": {},
   "source": [
    "# Switching to automated macroeconomic data from FRED API"
   ]
  },
  {
   "cell_type": "code",
   "execution_count": 25,
   "id": "67bd0bdd",
   "metadata": {},
   "outputs": [
    {
     "name": "stdout",
     "output_type": "stream",
     "text": [
      "Current working directory: d:\\Math and Finance\\Treasury operations efficiency project\\notebooks\n"
     ]
    }
   ],
   "source": [
    "import os\n",
    "\n",
    "# Confirm your working directory\n",
    "print(\"Current working directory:\", os.getcwd())"
   ]
  },
  {
   "cell_type": "code",
   "execution_count": 26,
   "id": "fb1baf13",
   "metadata": {},
   "outputs": [],
   "source": [
    "from pathlib import Path\n",
    "\n",
    "project_root = Path.cwd().parent\n",
    "macro_path = project_root / \"data\" / \"macro\"\n",
    "\n",
    "df_cpi = pd.read_csv(macro_path / \"cpi.csv\", parse_dates=[\"date\"])\n",
    "df_fed = pd.read_csv(macro_path / \"fed_funds_rate.csv\", parse_dates=[\"date\"])\n",
    "df_gs10 = pd.read_csv(macro_path / \"ten_year_treasury.csv\", parse_dates=[\"date\"])"
   ]
  },
  {
   "cell_type": "code",
   "execution_count": 27,
   "id": "64db89b1",
   "metadata": {},
   "outputs": [],
   "source": [
    "# Merging macro indicators into a single DataFrame\n",
    "\n",
    "df_macro = df_cpi.merge(df_fed, on=\"date\").merge(df_gs10, on=\"date\")"
   ]
  },
  {
   "cell_type": "code",
   "execution_count": 28,
   "id": "459aad6e",
   "metadata": {},
   "outputs": [],
   "source": [
    "df_macro = df_macro.sort_values(\"date\").reset_index(drop=True)\n"
   ]
  },
  {
   "cell_type": "code",
   "execution_count": 29,
   "id": "d4061f9f",
   "metadata": {},
   "outputs": [],
   "source": [
    "df_macro = df_macro.rename(columns={\"date\": \"report_date\"})\n"
   ]
  },
  {
   "cell_type": "code",
   "execution_count": 30,
   "id": "91093491",
   "metadata": {},
   "outputs": [],
   "source": [
    "liquidity_path = project_root / \"data\" / \"cleaned\" / \"ffiec_liquidity_panel.csv\"\n",
    "df_liquidity = pd.read_csv(liquidity_path, parse_dates=[\"report_date\"])\n"
   ]
  },
  {
   "cell_type": "code",
   "execution_count": 31,
   "id": "2446f554",
   "metadata": {},
   "outputs": [],
   "source": [
    "# merging FFIEC liquidity panel with the macroeconomic indicators based on the shared column report_date\n",
    "\n",
    "df_merged = pd.merge(df_liquidity, df_macro, on=\"report_date\", how=\"left\")\n"
   ]
  },
  {
   "cell_type": "code",
   "execution_count": 32,
   "id": "f6e8d517",
   "metadata": {},
   "outputs": [
    {
     "data": {
      "text/html": [
       "<div>\n",
       "<style scoped>\n",
       "    .dataframe tbody tr th:only-of-type {\n",
       "        vertical-align: middle;\n",
       "    }\n",
       "\n",
       "    .dataframe tbody tr th {\n",
       "        vertical-align: top;\n",
       "    }\n",
       "\n",
       "    .dataframe thead th {\n",
       "        text-align: right;\n",
       "    }\n",
       "</style>\n",
       "<table border=\"1\" class=\"dataframe\">\n",
       "  <thead>\n",
       "    <tr style=\"text-align: right;\">\n",
       "      <th></th>\n",
       "      <th>report_date</th>\n",
       "      <th>institution</th>\n",
       "      <th>total_deposits</th>\n",
       "      <th>interest_bearing_cash</th>\n",
       "      <th>noninterest_cash</th>\n",
       "      <th>cpi</th>\n",
       "      <th>fed_funds_rate</th>\n",
       "      <th>ten_year_treasury</th>\n",
       "    </tr>\n",
       "  </thead>\n",
       "  <tbody>\n",
       "    <tr>\n",
       "      <th>0</th>\n",
       "      <td>NaT</td>\n",
       "      <td>NaN</td>\n",
       "      <td>NaN</td>\n",
       "      <td>NaN</td>\n",
       "      <td>NaN</td>\n",
       "      <td>NaN</td>\n",
       "      <td>NaN</td>\n",
       "      <td>NaN</td>\n",
       "    </tr>\n",
       "    <tr>\n",
       "      <th>1</th>\n",
       "      <td>2023-12-31</td>\n",
       "      <td>BANK OF HANCOCK COUNTY</td>\n",
       "      <td>65251.0</td>\n",
       "      <td>917.0</td>\n",
       "      <td>4472.0</td>\n",
       "      <td>NaN</td>\n",
       "      <td>NaN</td>\n",
       "      <td>NaN</td>\n",
       "    </tr>\n",
       "    <tr>\n",
       "      <th>2</th>\n",
       "      <td>2023-12-31</td>\n",
       "      <td>FIRST COMMUNITY BANK XENIA-FLORA</td>\n",
       "      <td>46676.0</td>\n",
       "      <td>1278.0</td>\n",
       "      <td>2600.0</td>\n",
       "      <td>NaN</td>\n",
       "      <td>NaN</td>\n",
       "      <td>NaN</td>\n",
       "    </tr>\n",
       "    <tr>\n",
       "      <th>3</th>\n",
       "      <td>2023-12-31</td>\n",
       "      <td>BROADSTREET BANK, SSB</td>\n",
       "      <td>327549.0</td>\n",
       "      <td>5358.0</td>\n",
       "      <td>12348.0</td>\n",
       "      <td>NaN</td>\n",
       "      <td>NaN</td>\n",
       "      <td>NaN</td>\n",
       "    </tr>\n",
       "    <tr>\n",
       "      <th>4</th>\n",
       "      <td>2023-12-31</td>\n",
       "      <td>BISON STATE BANK</td>\n",
       "      <td>55774.0</td>\n",
       "      <td>864.0</td>\n",
       "      <td>729.0</td>\n",
       "      <td>NaN</td>\n",
       "      <td>NaN</td>\n",
       "      <td>NaN</td>\n",
       "    </tr>\n",
       "  </tbody>\n",
       "</table>\n",
       "</div>"
      ],
      "text/plain": [
       "  report_date                       institution  total_deposits  \\\n",
       "0         NaT                               NaN             NaN   \n",
       "1  2023-12-31            BANK OF HANCOCK COUNTY         65251.0   \n",
       "2  2023-12-31  FIRST COMMUNITY BANK XENIA-FLORA         46676.0   \n",
       "3  2023-12-31             BROADSTREET BANK, SSB        327549.0   \n",
       "4  2023-12-31                  BISON STATE BANK         55774.0   \n",
       "\n",
       "   interest_bearing_cash  noninterest_cash  cpi  fed_funds_rate  \\\n",
       "0                    NaN               NaN  NaN             NaN   \n",
       "1                  917.0            4472.0  NaN             NaN   \n",
       "2                 1278.0            2600.0  NaN             NaN   \n",
       "3                 5358.0           12348.0  NaN             NaN   \n",
       "4                  864.0             729.0  NaN             NaN   \n",
       "\n",
       "   ten_year_treasury  \n",
       "0                NaN  \n",
       "1                NaN  \n",
       "2                NaN  \n",
       "3                NaN  \n",
       "4                NaN  "
      ]
     },
     "execution_count": 32,
     "metadata": {},
     "output_type": "execute_result"
    }
   ],
   "source": [
    "df_merged.head()"
   ]
  },
  {
   "cell_type": "code",
   "execution_count": 33,
   "id": "4093aa50",
   "metadata": {},
   "outputs": [],
   "source": [
    "# converting all report_date values in both DataFrames to the last day of the month using pd.offsets.MonthEnd(0)\n",
    "\n",
    "df_liquidity[\"report_date\"] = df_liquidity[\"report_date\"] + pd.offsets.MonthEnd(0)\n",
    "df_macro[\"report_date\"] = df_macro[\"report_date\"] + pd.offsets.MonthEnd(0)\n"
   ]
  },
  {
   "cell_type": "code",
   "execution_count": 34,
   "id": "27cb9c27",
   "metadata": {},
   "outputs": [],
   "source": [
    "df_merged = pd.merge(df_liquidity, df_macro, on=\"report_date\", how=\"left\")\n"
   ]
  },
  {
   "cell_type": "code",
   "execution_count": 35,
   "id": "6bb35e2b",
   "metadata": {},
   "outputs": [
    {
     "data": {
      "text/html": [
       "<div>\n",
       "<style scoped>\n",
       "    .dataframe tbody tr th:only-of-type {\n",
       "        vertical-align: middle;\n",
       "    }\n",
       "\n",
       "    .dataframe tbody tr th {\n",
       "        vertical-align: top;\n",
       "    }\n",
       "\n",
       "    .dataframe thead th {\n",
       "        text-align: right;\n",
       "    }\n",
       "</style>\n",
       "<table border=\"1\" class=\"dataframe\">\n",
       "  <thead>\n",
       "    <tr style=\"text-align: right;\">\n",
       "      <th></th>\n",
       "      <th>report_date</th>\n",
       "      <th>institution</th>\n",
       "      <th>total_deposits</th>\n",
       "      <th>interest_bearing_cash</th>\n",
       "      <th>noninterest_cash</th>\n",
       "      <th>cpi</th>\n",
       "      <th>fed_funds_rate</th>\n",
       "      <th>ten_year_treasury</th>\n",
       "    </tr>\n",
       "  </thead>\n",
       "  <tbody>\n",
       "    <tr>\n",
       "      <th>0</th>\n",
       "      <td>NaT</td>\n",
       "      <td>NaN</td>\n",
       "      <td>NaN</td>\n",
       "      <td>NaN</td>\n",
       "      <td>NaN</td>\n",
       "      <td>NaN</td>\n",
       "      <td>NaN</td>\n",
       "      <td>NaN</td>\n",
       "    </tr>\n",
       "    <tr>\n",
       "      <th>1</th>\n",
       "      <td>2023-12-31</td>\n",
       "      <td>BANK OF HANCOCK COUNTY</td>\n",
       "      <td>65251.0</td>\n",
       "      <td>917.0</td>\n",
       "      <td>4472.0</td>\n",
       "      <td>308.735</td>\n",
       "      <td>5.33</td>\n",
       "      <td>4.02</td>\n",
       "    </tr>\n",
       "    <tr>\n",
       "      <th>2</th>\n",
       "      <td>2023-12-31</td>\n",
       "      <td>FIRST COMMUNITY BANK XENIA-FLORA</td>\n",
       "      <td>46676.0</td>\n",
       "      <td>1278.0</td>\n",
       "      <td>2600.0</td>\n",
       "      <td>308.735</td>\n",
       "      <td>5.33</td>\n",
       "      <td>4.02</td>\n",
       "    </tr>\n",
       "    <tr>\n",
       "      <th>3</th>\n",
       "      <td>2023-12-31</td>\n",
       "      <td>BROADSTREET BANK, SSB</td>\n",
       "      <td>327549.0</td>\n",
       "      <td>5358.0</td>\n",
       "      <td>12348.0</td>\n",
       "      <td>308.735</td>\n",
       "      <td>5.33</td>\n",
       "      <td>4.02</td>\n",
       "    </tr>\n",
       "    <tr>\n",
       "      <th>4</th>\n",
       "      <td>2023-12-31</td>\n",
       "      <td>BISON STATE BANK</td>\n",
       "      <td>55774.0</td>\n",
       "      <td>864.0</td>\n",
       "      <td>729.0</td>\n",
       "      <td>308.735</td>\n",
       "      <td>5.33</td>\n",
       "      <td>4.02</td>\n",
       "    </tr>\n",
       "  </tbody>\n",
       "</table>\n",
       "</div>"
      ],
      "text/plain": [
       "  report_date                       institution  total_deposits  \\\n",
       "0         NaT                               NaN             NaN   \n",
       "1  2023-12-31            BANK OF HANCOCK COUNTY         65251.0   \n",
       "2  2023-12-31  FIRST COMMUNITY BANK XENIA-FLORA         46676.0   \n",
       "3  2023-12-31             BROADSTREET BANK, SSB        327549.0   \n",
       "4  2023-12-31                  BISON STATE BANK         55774.0   \n",
       "\n",
       "   interest_bearing_cash  noninterest_cash      cpi  fed_funds_rate  \\\n",
       "0                    NaN               NaN      NaN             NaN   \n",
       "1                  917.0            4472.0  308.735            5.33   \n",
       "2                 1278.0            2600.0  308.735            5.33   \n",
       "3                 5358.0           12348.0  308.735            5.33   \n",
       "4                  864.0             729.0  308.735            5.33   \n",
       "\n",
       "   ten_year_treasury  \n",
       "0                NaN  \n",
       "1               4.02  \n",
       "2               4.02  \n",
       "3               4.02  \n",
       "4               4.02  "
      ]
     },
     "execution_count": 35,
     "metadata": {},
     "output_type": "execute_result"
    }
   ],
   "source": [
    "df_merged.head()\n"
   ]
  },
  {
   "cell_type": "code",
   "execution_count": 40,
   "id": "d305519b",
   "metadata": {},
   "outputs": [],
   "source": [
    "# Feature: Cash-to-Deposit Ratio = (Interest + Noninterest Cash) / Total Deposits\n",
    "# This measures the proportion of a bank's deposits that are held in cash (both interest-bearing and noninterest).\n",
    "# It serves as a proxy for liquidity strength—higher values indicate more liquid reserves relative to liabilities.\n",
    "\n",
    "df_merged[\"cash_to_deposit_ratio\"] = (\n",
    "    (df_merged[\"interest_bearing_cash\"] + df_merged[\"noninterest_cash\"]) / df_merged[\"total_deposits\"]\n",
    ")"
   ]
  },
  {
   "cell_type": "code",
   "execution_count": 41,
   "id": "f68bda09",
   "metadata": {},
   "outputs": [],
   "source": [
    "# Feature: Lagged Fed Funds Rate (1-period lag)\n",
    "# This captures the previous period's federal funds rate for each bank.\n",
    "# It allows us to test whether past interest rate levels influence current liquidity behavior.\n",
    "\n",
    "df_merged[\"fed_funds_rate_lag1\"] = df_merged.groupby(\"institution\")[\"fed_funds_rate\"].shift(1)"
   ]
  },
  {
   "cell_type": "code",
   "execution_count": 44,
   "id": "8b77a929",
   "metadata": {},
   "outputs": [],
   "source": [
    "# Feature: Lagged CPI (1-period lag)\n",
    "# This adds the inflation value from the previous period for each bank.\n",
    "# By including this, we can check if changes in inflation take time to influence a bank’s liquidity position.\n",
    "\n",
    "df_merged[\"cpi_lag1\"] = df_merged.groupby(\"institution\")[\"cpi\"].shift(1)"
   ]
  },
  {
   "cell_type": "code",
   "execution_count": 45,
   "id": "d3e13bc1",
   "metadata": {},
   "outputs": [],
   "source": [
    "# Feature: Lagged 10-Year Treasury Yield (1-period lag)\n",
    "# This brings in the previous period’s long-term interest rate for each bank.\n",
    "# It helps us explore whether shifts in long-term rates have a delayed impact on liquidity behavior.\n",
    "\n",
    "df_merged[\"ten_year_treasury_lag1\"] = df_merged.groupby(\"institution\")[\"ten_year_treasury\"].shift(1)"
   ]
  },
  {
   "cell_type": "code",
   "execution_count": 46,
   "id": "19f3a787",
   "metadata": {},
   "outputs": [],
   "source": [
    "# Importing OLS from statsmodels\n",
    "import statsmodels.api as sm\n",
    "\n",
    "# Defining target and features for hypothesis testing\n",
    "# It will test the impact of lagged macro variables on the cash-to-deposit ratio\n",
    "X = df_merged[[\"fed_funds_rate_lag1\", \"cpi_lag1\", \"ten_year_treasury_lag1\"]]\n",
    "y = df_merged[\"cash_to_deposit_ratio\"]\n",
    "\n",
    "# Dropping rows with missing values (due to lagging)\n",
    "X = X.dropna()\n",
    "y = y.loc[X.index]\n"
   ]
  },
  {
   "cell_type": "code",
   "execution_count": 47,
   "id": "816f7e65",
   "metadata": {},
   "outputs": [
    {
     "name": "stdout",
     "output_type": "stream",
     "text": [
      "                              OLS Regression Results                             \n",
      "=================================================================================\n",
      "Dep. Variable:     cash_to_deposit_ratio   R-squared:                         nan\n",
      "Model:                               OLS   Adj. R-squared:                    nan\n",
      "Method:                    Least Squares   F-statistic:                       nan\n",
      "Date:                   Mon, 07 Jul 2025   Prob (F-statistic):                nan\n",
      "Time:                           02:05:02   Log-Likelihood:                    nan\n",
      "No. Observations:                  14552   AIC:                               nan\n",
      "Df Residuals:                      14548   BIC:                               nan\n",
      "Df Model:                              3                                         \n",
      "Covariance Type:               nonrobust                                         \n",
      "==========================================================================================\n",
      "                             coef    std err          t      P>|t|      [0.025      0.975]\n",
      "------------------------------------------------------------------------------------------\n",
      "const                         nan        nan        nan        nan         nan         nan\n",
      "fed_funds_rate_lag1           nan        nan        nan        nan         nan         nan\n",
      "cpi_lag1                      nan        nan        nan        nan         nan         nan\n",
      "ten_year_treasury_lag1        nan        nan        nan        nan         nan         nan\n",
      "==============================================================================\n",
      "Omnibus:                          nan   Durbin-Watson:                     nan\n",
      "Prob(Omnibus):                    nan   Jarque-Bera (JB):                  nan\n",
      "Skew:                             nan   Prob(JB):                          nan\n",
      "Kurtosis:                         nan   Cond. No.                     9.32e+04\n",
      "==============================================================================\n",
      "\n",
      "Notes:\n",
      "[1] Standard Errors assume that the covariance matrix of the errors is correctly specified.\n",
      "[2] The condition number is large, 9.32e+04. This might indicate that there are\n",
      "strong multicollinearity or other numerical problems.\n"
     ]
    }
   ],
   "source": [
    "# Adding a constant term to the features (required for OLS intercept)\n",
    "X = sm.add_constant(X)\n",
    "\n",
    "# Fitting the OLS regression model\n",
    "model = sm.OLS(y, X).fit()\n",
    "\n",
    "# Showing the summary with p-values and R-squared\n",
    "print(model.summary())"
   ]
  },
  {
   "cell_type": "markdown",
   "id": "29e8e03e",
   "metadata": {},
   "source": [
    "Model failed to fit properly and this usually happens due to one of the following: \n",
    "\n",
    "1. Missing Values Still Present:\n",
    "Even though we dropped NaNs earlier, there might still be some left, especially if the target variable cash_to_deposit_ratio has missing values that weren’t aligned with X.\n",
    "\n",
    "2. Constant or Identical Values:\n",
    "If any of the features or the target has the same value across many rows for e.g. all zeros or all NaNs then OLS won't be able to compute meaningful statistics.\n",
    "\n",
    "3. Multicollinearity:\n",
    "If two or more features are highly correlated for e.g. interest rates and treasury yields then the model struggles to separate their effects."
   ]
  },
  {
   "cell_type": "code",
   "execution_count": 49,
   "id": "3c9dafcb",
   "metadata": {},
   "outputs": [
    {
     "name": "stdout",
     "output_type": "stream",
     "text": [
      "Missing in X:\n",
      " const                     0\n",
      "fed_funds_rate_lag1       0\n",
      "cpi_lag1                  0\n",
      "ten_year_treasury_lag1    0\n",
      "dtype: int64\n",
      "\n",
      "Missing in y:\n",
      " 247\n"
     ]
    }
   ],
   "source": [
    "# Checking for missing values\n",
    "print(\"Missing in X:\\n\", X.isnull().sum())\n",
    "print(\"\\nMissing in y:\\n\", y.isnull().sum())"
   ]
  },
  {
   "cell_type": "code",
   "execution_count": 50,
   "id": "712001d2",
   "metadata": {},
   "outputs": [],
   "source": [
    "# Dropping rows where the target variable is missing\n",
    "valid_index = y.dropna().index\n",
    "X_clean = X.loc[valid_index]\n",
    "y_clean = y.loc[valid_index]\n"
   ]
  },
  {
   "cell_type": "code",
   "execution_count": 51,
   "id": "6f476aae",
   "metadata": {},
   "outputs": [
    {
     "name": "stdout",
     "output_type": "stream",
     "text": [
      "                              OLS Regression Results                             \n",
      "=================================================================================\n",
      "Dep. Variable:     cash_to_deposit_ratio   R-squared:                         nan\n",
      "Model:                               OLS   Adj. R-squared:                    nan\n",
      "Method:                    Least Squares   F-statistic:                       nan\n",
      "Date:                   Mon, 07 Jul 2025   Prob (F-statistic):                nan\n",
      "Time:                           03:51:23   Log-Likelihood:                    nan\n",
      "No. Observations:                  14305   AIC:                               nan\n",
      "Df Residuals:                      14301   BIC:                               nan\n",
      "Df Model:                              3                                         \n",
      "Covariance Type:               nonrobust                                         \n",
      "==========================================================================================\n",
      "                             coef    std err          t      P>|t|      [0.025      0.975]\n",
      "------------------------------------------------------------------------------------------\n",
      "const                         nan        nan        nan        nan         nan         nan\n",
      "fed_funds_rate_lag1           nan        nan        nan        nan         nan         nan\n",
      "cpi_lag1                      nan        nan        nan        nan         nan         nan\n",
      "ten_year_treasury_lag1        nan        nan        nan        nan         nan         nan\n",
      "==============================================================================\n",
      "Omnibus:                          nan   Durbin-Watson:                     nan\n",
      "Prob(Omnibus):                    nan   Jarque-Bera (JB):                  nan\n",
      "Skew:                             nan   Prob(JB):                          nan\n",
      "Kurtosis:                         nan   Cond. No.                     9.31e+04\n",
      "==============================================================================\n",
      "\n",
      "Notes:\n",
      "[1] Standard Errors assume that the covariance matrix of the errors is correctly specified.\n",
      "[2] The condition number is large, 9.31e+04. This might indicate that there are\n",
      "strong multicollinearity or other numerical problems.\n"
     ]
    },
    {
     "name": "stderr",
     "output_type": "stream",
     "text": [
      "d:\\Anaconda3\\envs\\lendingclub_env\\lib\\site-packages\\statsmodels\\regression\\linear_model.py:1733: RuntimeWarning: invalid value encountered in subtract\n",
      "  return np.sum(weights * (model.endog - mean)**2)\n"
     ]
    }
   ],
   "source": [
    "# Re-fitting the OLS model using cleaned data\n",
    "model = sm.OLS(y_clean, X_clean).fit()\n",
    "\n",
    "print(model.summary())"
   ]
  },
  {
   "cell_type": "code",
   "execution_count": 53,
   "id": "863de8c0",
   "metadata": {},
   "outputs": [
    {
     "name": "stdout",
     "output_type": "stream",
     "text": [
      "Target variable summary:\n",
      "count    1.430500e+04\n",
      "mean              inf\n",
      "std               NaN\n",
      "min      0.000000e+00\n",
      "25%      3.381488e-02\n",
      "50%      6.380150e-02\n",
      "75%      1.237134e-01\n",
      "max               inf\n",
      "Name: cash_to_deposit_ratio, dtype: float64\n",
      "\n",
      "Any infinite values in y? True\n",
      "\n",
      "Feature summary:\n",
      "         const  fed_funds_rate_lag1      cpi_lag1  ten_year_treasury_lag1\n",
      "count  14305.0         14305.000000  14305.000000            14305.000000\n",
      "mean       1.0             5.221557    306.516538                4.033281\n",
      "std        0.0             0.165506      2.158024                0.264606\n",
      "min        1.0             4.650000    301.643000                3.660000\n",
      "25%        1.0             5.080000    304.099000                3.750000\n",
      "50%        1.0             5.330000    307.374000                4.020000\n",
      "75%        1.0             5.330000    308.735000                4.380000\n",
      "max        1.0             5.330000    308.735000                4.380000\n",
      "\n",
      "Any infinite values in X? const                     False\n",
      "fed_funds_rate_lag1       False\n",
      "cpi_lag1                  False\n",
      "ten_year_treasury_lag1    False\n",
      "dtype: bool\n"
     ]
    }
   ],
   "source": [
    "# Checking for constant or invalid values\n",
    "import numpy as np\n",
    "print(\"Target variable summary:\")\n",
    "print(y_clean.describe())\n",
    "print(\"\\nAny infinite values in y?\", np.isinf(y_clean).any())\n",
    "\n",
    "print(\"\\nFeature summary:\")\n",
    "print(X_clean.describe())\n",
    "print(\"\\nAny infinite values in X?\", np.isinf(X_clean).any())"
   ]
  },
  {
   "cell_type": "code",
   "execution_count": 54,
   "id": "36891082",
   "metadata": {},
   "outputs": [],
   "source": [
    "# Removing rows where the target is infinite or NaN\n",
    "mask = np.isfinite(y_clean)\n",
    "X_final = X_clean[mask]\n",
    "y_final = y_clean[mask]"
   ]
  },
  {
   "cell_type": "code",
   "execution_count": 55,
   "id": "4ae7bf32",
   "metadata": {},
   "outputs": [
    {
     "name": "stdout",
     "output_type": "stream",
     "text": [
      "                              OLS Regression Results                             \n",
      "=================================================================================\n",
      "Dep. Variable:     cash_to_deposit_ratio   R-squared:                       0.000\n",
      "Model:                               OLS   Adj. R-squared:                 -0.000\n",
      "Method:                    Least Squares   F-statistic:                    0.7191\n",
      "Date:                   Mon, 07 Jul 2025   Prob (F-statistic):              0.540\n",
      "Time:                           03:56:49   Log-Likelihood:            -1.0463e+05\n",
      "No. Observations:                  14177   AIC:                         2.093e+05\n",
      "Df Residuals:                      14173   BIC:                         2.093e+05\n",
      "Df Model:                              3                                         \n",
      "Covariance Type:               nonrobust                                         \n",
      "==========================================================================================\n",
      "                             coef    std err          t      P>|t|      [0.025      0.975]\n",
      "------------------------------------------------------------------------------------------\n",
      "const                  -1085.1505    988.024     -1.098      0.272   -3021.808     851.507\n",
      "fed_funds_rate_lag1      -20.0466     60.423     -0.332      0.740    -138.484      98.391\n",
      "cpi_lag1                   4.0659      4.058      1.002      0.316      -3.888      12.019\n",
      "ten_year_treasury_lag1   -13.1094     19.123     -0.686      0.493     -50.592      24.374\n",
      "==============================================================================\n",
      "Omnibus:                    59510.439   Durbin-Watson:                   2.000\n",
      "Prob(Omnibus):                  0.000   Jarque-Bera (JB):     118524795971.788\n",
      "Skew:                         118.998   Prob(JB):                         0.00\n",
      "Kurtosis:                   14166.049   Cond. No.                     9.30e+04\n",
      "==============================================================================\n",
      "\n",
      "Notes:\n",
      "[1] Standard Errors assume that the covariance matrix of the errors is correctly specified.\n",
      "[2] The condition number is large, 9.3e+04. This might indicate that there are\n",
      "strong multicollinearity or other numerical problems.\n"
     ]
    }
   ],
   "source": [
    "# Now Fitting the OLS model using cleaned and finite data\n",
    "model = sm.OLS(y_final, X_final).fit()\n",
    "\n",
    "print(model.summary())"
   ]
  },
  {
   "cell_type": "markdown",
   "id": "2ecb0d20",
   "metadata": {},
   "source": [
    "Observation:\n",
    "The regression model using lagged macroeconomic variables (Fed Funds Rate, CPI, 10Y Treasury) did not yield statistically significant results (p > 0.05) and had an R-squared close to zero. Finally, this suggests that past macro conditions alone do not explain short-term changes in bank liquidity.\n",
    "\n",
    "Next Step:\n",
    "I will now try to test the impact of current-period (non-lagged) macroeconomic indicators to see if banks respond more immediately to economic shifts."
   ]
  },
  {
   "cell_type": "code",
   "execution_count": 56,
   "id": "bfbd4c66",
   "metadata": {},
   "outputs": [
    {
     "name": "stdout",
     "output_type": "stream",
     "text": [
      "                              OLS Regression Results                             \n",
      "=================================================================================\n",
      "Dep. Variable:     cash_to_deposit_ratio   R-squared:                       0.000\n",
      "Model:                               OLS   Adj. R-squared:                 -0.000\n",
      "Method:                    Least Squares   F-statistic:                    0.6763\n",
      "Date:                   Mon, 07 Jul 2025   Prob (F-statistic):              0.566\n",
      "Time:                           04:04:28   Log-Likelihood:            -1.3790e+05\n",
      "No. Observations:                  18222   AIC:                         2.758e+05\n",
      "Df Residuals:                      18218   BIC:                         2.758e+05\n",
      "Df Model:                              3                                         \n",
      "Covariance Type:               nonrobust                                         \n",
      "=====================================================================================\n",
      "                        coef    std err          t      P>|t|      [0.025      0.975]\n",
      "-------------------------------------------------------------------------------------\n",
      "const              -651.0600   1066.736     -0.610      0.542   -2741.963    1439.843\n",
      "fed_funds_rate      -14.9921     43.023     -0.348      0.727     -99.322      69.337\n",
      "cpi                   2.2654      4.142      0.547      0.584      -5.853      10.384\n",
      "ten_year_treasury    10.3002     20.840      0.494      0.621     -30.548      51.148\n",
      "==============================================================================\n",
      "Omnibus:                    71327.379   Durbin-Watson:                   2.000\n",
      "Prob(Omnibus):                  0.000   Jarque-Bera (JB):      63538819580.453\n",
      "Skew:                          95.577   Prob(JB):                         0.00\n",
      "Kurtosis:                    9149.024   Cond. No.                     9.40e+04\n",
      "==============================================================================\n",
      "\n",
      "Notes:\n",
      "[1] Standard Errors assume that the covariance matrix of the errors is correctly specified.\n",
      "[2] The condition number is large, 9.4e+04. This might indicate that there are\n",
      "strong multicollinearity or other numerical problems.\n"
     ]
    }
   ],
   "source": [
    "# Defining new feature set using current-period macro variables\n",
    "X_current = df_merged[[\"fed_funds_rate\", \"cpi\", \"ten_year_treasury\"]]\n",
    "y_current = df_merged[\"cash_to_deposit_ratio\"]\n",
    "\n",
    "# Dropping rows with missing or infinite values\n",
    "mask = np.isfinite(y_current) & np.isfinite(X_current).all(axis=1)\n",
    "X_current_clean = X_current[mask]\n",
    "y_current_clean = y_current[mask]\n",
    "\n",
    "# Adding constant term for intercept\n",
    "X_current_clean = sm.add_constant(X_current_clean)\n",
    "\n",
    "# Fitting the OLS model\n",
    "model_current = sm.OLS(y_current_clean, X_current_clean).fit()\n",
    "\n",
    "print(model_current.summary())"
   ]
  },
  {
   "cell_type": "markdown",
   "id": "10595433",
   "metadata": {},
   "source": [
    "Observation:\n",
    "The regression model using current-period macroeconomic variables (Fed Funds Rate, CPI, 10Y Treasury) also failed to produce statistically significant results (p > 0.05), with an R-squared of 0.000. SO, this indicates that macroeconomic conditions—whether lagged or current(non-lagged) do not explain the short-term liquidity behaviour in this dataset.\n",
    "\n",
    "Next Step:\n",
    "I will now shift my focus to internal bank-level features (e.g. deposits and cash holdings) to explore whether these variables have a stronger and more direct relationship with liquidity ratios."
   ]
  },
  {
   "cell_type": "code",
   "execution_count": 57,
   "id": "b163e346",
   "metadata": {},
   "outputs": [
    {
     "name": "stdout",
     "output_type": "stream",
     "text": [
      "                              OLS Regression Results                             \n",
      "=================================================================================\n",
      "Dep. Variable:     cash_to_deposit_ratio   R-squared:                       0.000\n",
      "Model:                               OLS   Adj. R-squared:                 -0.000\n",
      "Method:                    Least Squares   F-statistic:                    0.4166\n",
      "Date:                   Mon, 07 Jul 2025   Prob (F-statistic):              0.741\n",
      "Time:                           04:10:19   Log-Likelihood:            -1.3790e+05\n",
      "No. Observations:                  18222   AIC:                         2.758e+05\n",
      "Df Residuals:                      18218   BIC:                         2.758e+05\n",
      "Df Model:                              3                                         \n",
      "Covariance Type:               nonrobust                                         \n",
      "=========================================================================================\n",
      "                            coef    std err          t      P>|t|      [0.025      0.975]\n",
      "-----------------------------------------------------------------------------------------\n",
      "const                     5.4966      3.620      1.519      0.129      -1.598      12.591\n",
      "total_deposits        -2.083e-06   1.97e-06     -1.058      0.290   -5.94e-06    1.78e-06\n",
      "interest_bearing_cash  9.194e-05      0.000      0.697      0.486      -0.000       0.000\n",
      "noninterest_cash       1.001e-05   1.08e-05      0.927      0.354   -1.12e-05    3.12e-05\n",
      "==============================================================================\n",
      "Omnibus:                    71329.424   Durbin-Watson:                   2.000\n",
      "Prob(Omnibus):                  0.000   Jarque-Bera (JB):      63554458809.401\n",
      "Skew:                          95.585   Prob(JB):                         0.00\n",
      "Kurtosis:                    9150.150   Cond. No.                     4.28e+06\n",
      "==============================================================================\n",
      "\n",
      "Notes:\n",
      "[1] Standard Errors assume that the covariance matrix of the errors is correctly specified.\n",
      "[2] The condition number is large, 4.28e+06. This might indicate that there are\n",
      "strong multicollinearity or other numerical problems.\n"
     ]
    }
   ],
   "source": [
    "# Defining bank-level features\n",
    "X_bank = df_merged[[\"total_deposits\", \"interest_bearing_cash\", \"noninterest_cash\"]]\n",
    "y_bank = df_merged[\"cash_to_deposit_ratio\"]\n",
    "\n",
    "# Dropping rows with missing or infinite values\n",
    "mask = np.isfinite(y_bank) & np.isfinite(X_bank).all(axis=1)\n",
    "X_bank_clean = X_bank[mask]\n",
    "y_bank_clean = y_bank[mask]\n",
    "\n",
    "# Adding constant term\n",
    "X_bank_clean = sm.add_constant(X_bank_clean)\n",
    "\n",
    "# Fitting the OLS model\n",
    "model_bank = sm.OLS(y_bank_clean, X_bank_clean).fit()\n",
    "\n",
    "print(model_bank.summary())\n"
   ]
  }
 ],
 "metadata": {
  "kernelspec": {
   "display_name": "lendingclub_env",
   "language": "python",
   "name": "python3"
  },
  "language_info": {
   "codemirror_mode": {
    "name": "ipython",
    "version": 3
   },
   "file_extension": ".py",
   "mimetype": "text/x-python",
   "name": "python",
   "nbconvert_exporter": "python",
   "pygments_lexer": "ipython3",
   "version": "3.8.20"
  }
 },
 "nbformat": 4,
 "nbformat_minor": 5
}
